{
 "cells": [
  {
   "cell_type": "code",
   "execution_count": 1,
   "metadata": {},
   "outputs": [],
   "source": [
    "import matplotlib.pyplot as plt\n",
    "import pandas as pd\n",
    "import numpy as np"
   ]
  },
  {
   "cell_type": "code",
   "execution_count": 2,
   "metadata": {},
   "outputs": [],
   "source": [
    "#Read in real estate data csv file\n",
    "csvfile2 = 'allsurveyedited-edit.csv'"
   ]
  },
  {
   "cell_type": "code",
   "execution_count": 3,
   "metadata": {},
   "outputs": [
    {
     "data": {
      "text/html": [
       "<div>\n",
       "<style scoped>\n",
       "    .dataframe tbody tr th:only-of-type {\n",
       "        vertical-align: middle;\n",
       "    }\n",
       "\n",
       "    .dataframe tbody tr th {\n",
       "        vertical-align: top;\n",
       "    }\n",
       "\n",
       "    .dataframe thead th {\n",
       "        text-align: right;\n",
       "    }\n",
       "</style>\n",
       "<table border=\"1\" class=\"dataframe\">\n",
       "  <thead>\n",
       "    <tr style=\"text-align: right;\">\n",
       "      <th></th>\n",
       "      <th>Zip Code</th>\n",
       "      <th>Mall</th>\n",
       "      <th>numstores</th>\n",
       "      <th>shopping_style</th>\n",
       "      <th>apparel</th>\n",
       "      <th>Shoes</th>\n",
       "      <th>Accessories</th>\n",
       "      <th>Jewelry</th>\n",
       "      <th>ToysGames</th>\n",
       "      <th>Books</th>\n",
       "      <th>...</th>\n",
       "      <th>with_family</th>\n",
       "      <th>With_friends</th>\n",
       "      <th>Myself</th>\n",
       "      <th>For_family</th>\n",
       "      <th>For_friends</th>\n",
       "      <th>depends</th>\n",
       "      <th>gender</th>\n",
       "      <th>age</th>\n",
       "      <th>income</th>\n",
       "      <th>family_type</th>\n",
       "    </tr>\n",
       "  </thead>\n",
       "  <tbody>\n",
       "    <tr>\n",
       "      <th>0</th>\n",
       "      <td>60062</td>\n",
       "      <td>north</td>\n",
       "      <td>Two or Three Stores</td>\n",
       "      <td>Deals</td>\n",
       "      <td>1</td>\n",
       "      <td></td>\n",
       "      <td></td>\n",
       "      <td></td>\n",
       "      <td></td>\n",
       "      <td></td>\n",
       "      <td>...</td>\n",
       "      <td></td>\n",
       "      <td></td>\n",
       "      <td>1</td>\n",
       "      <td></td>\n",
       "      <td></td>\n",
       "      <td></td>\n",
       "      <td>Male</td>\n",
       "      <td>45-54</td>\n",
       "      <td>100K - 149K</td>\n",
       "      <td>married kids</td>\n",
       "    </tr>\n",
       "    <tr>\n",
       "      <th>1</th>\n",
       "      <td>60062</td>\n",
       "      <td>north</td>\n",
       "      <td>Two or Three Stores</td>\n",
       "      <td>Fun</td>\n",
       "      <td>1</td>\n",
       "      <td>1</td>\n",
       "      <td>1</td>\n",
       "      <td></td>\n",
       "      <td>1</td>\n",
       "      <td></td>\n",
       "      <td>...</td>\n",
       "      <td>1</td>\n",
       "      <td></td>\n",
       "      <td></td>\n",
       "      <td></td>\n",
       "      <td></td>\n",
       "      <td>1</td>\n",
       "      <td></td>\n",
       "      <td>35-44</td>\n",
       "      <td>&gt; 200K</td>\n",
       "      <td>married kids</td>\n",
       "    </tr>\n",
       "    <tr>\n",
       "      <th>2</th>\n",
       "      <td>60062</td>\n",
       "      <td>north</td>\n",
       "      <td>Two or Three Stores</td>\n",
       "      <td>Trends</td>\n",
       "      <td>1</td>\n",
       "      <td>1</td>\n",
       "      <td>1</td>\n",
       "      <td></td>\n",
       "      <td></td>\n",
       "      <td></td>\n",
       "      <td>...</td>\n",
       "      <td></td>\n",
       "      <td></td>\n",
       "      <td>1</td>\n",
       "      <td></td>\n",
       "      <td></td>\n",
       "      <td></td>\n",
       "      <td>Female</td>\n",
       "      <td>35-44</td>\n",
       "      <td>&gt; 200K</td>\n",
       "      <td>married kids</td>\n",
       "    </tr>\n",
       "    <tr>\n",
       "      <th>3</th>\n",
       "      <td>60062</td>\n",
       "      <td>north</td>\n",
       "      <td>Two or Three Stores</td>\n",
       "      <td>Deals</td>\n",
       "      <td>1</td>\n",
       "      <td></td>\n",
       "      <td>1</td>\n",
       "      <td></td>\n",
       "      <td></td>\n",
       "      <td></td>\n",
       "      <td>...</td>\n",
       "      <td></td>\n",
       "      <td></td>\n",
       "      <td>1</td>\n",
       "      <td>1</td>\n",
       "      <td></td>\n",
       "      <td></td>\n",
       "      <td></td>\n",
       "      <td>35-44</td>\n",
       "      <td>&gt; 200K</td>\n",
       "      <td>married kids</td>\n",
       "    </tr>\n",
       "    <tr>\n",
       "      <th>4</th>\n",
       "      <td>60062</td>\n",
       "      <td>north</td>\n",
       "      <td>Two or Three Stores</td>\n",
       "      <td>Deals</td>\n",
       "      <td>1</td>\n",
       "      <td>1</td>\n",
       "      <td>1</td>\n",
       "      <td></td>\n",
       "      <td></td>\n",
       "      <td></td>\n",
       "      <td>...</td>\n",
       "      <td>1</td>\n",
       "      <td>1</td>\n",
       "      <td>1</td>\n",
       "      <td></td>\n",
       "      <td></td>\n",
       "      <td>1</td>\n",
       "      <td></td>\n",
       "      <td>55-64</td>\n",
       "      <td>&gt; 200K</td>\n",
       "      <td>married kids</td>\n",
       "    </tr>\n",
       "  </tbody>\n",
       "</table>\n",
       "<p>5 rows × 38 columns</p>\n",
       "</div>"
      ],
      "text/plain": [
       "   Zip Code   Mall            numstores shopping_style apparel Shoes  \\\n",
       "0     60062  north  Two or Three Stores          Deals       1         \n",
       "1     60062  north  Two or Three Stores            Fun       1     1   \n",
       "2     60062  north  Two or Three Stores         Trends       1     1   \n",
       "3     60062  north  Two or Three Stores          Deals       1         \n",
       "4     60062  north  Two or Three Stores          Deals       1     1   \n",
       "\n",
       "  Accessories Jewelry ToysGames Books      ...      with_family With_friends  \\\n",
       "0                                          ...                                 \n",
       "1           1                 1            ...                1                \n",
       "2           1                              ...                                 \n",
       "3           1                              ...                                 \n",
       "4           1                              ...                1            1   \n",
       "\n",
       "  Myself For_family For_friends depends  gender    age       income  \\\n",
       "0      1                                   Male  45-54  100K - 149K   \n",
       "1                                     1          35-44       > 200K   \n",
       "2      1                                 Female  35-44       > 200K   \n",
       "3      1          1                              35-44       > 200K   \n",
       "4      1                              1          55-64       > 200K   \n",
       "\n",
       "    family_type  \n",
       "0  married kids  \n",
       "1  married kids  \n",
       "2  married kids  \n",
       "3  married kids  \n",
       "4  married kids  \n",
       "\n",
       "[5 rows x 38 columns]"
      ]
     },
     "execution_count": 3,
     "metadata": {},
     "output_type": "execute_result"
    }
   ],
   "source": [
    "survey_df = pd.read_csv(csvfile2)\n",
    "survey_df.head()"
   ]
  },
  {
   "cell_type": "code",
   "execution_count": 4,
   "metadata": {},
   "outputs": [
    {
     "data": {
      "text/html": [
       "<div>\n",
       "<style scoped>\n",
       "    .dataframe tbody tr th:only-of-type {\n",
       "        vertical-align: middle;\n",
       "    }\n",
       "\n",
       "    .dataframe tbody tr th {\n",
       "        vertical-align: top;\n",
       "    }\n",
       "\n",
       "    .dataframe thead th {\n",
       "        text-align: right;\n",
       "    }\n",
       "</style>\n",
       "<table border=\"1\" class=\"dataframe\">\n",
       "  <thead>\n",
       "    <tr style=\"text-align: right;\">\n",
       "      <th></th>\n",
       "      <th>Zip Code</th>\n",
       "      <th>Mall</th>\n",
       "      <th>gender</th>\n",
       "      <th>age</th>\n",
       "      <th>income</th>\n",
       "      <th>family_type</th>\n",
       "    </tr>\n",
       "  </thead>\n",
       "  <tbody>\n",
       "    <tr>\n",
       "      <th>0</th>\n",
       "      <td>60062</td>\n",
       "      <td>north</td>\n",
       "      <td>Male</td>\n",
       "      <td>45-54</td>\n",
       "      <td>100K - 149K</td>\n",
       "      <td>married kids</td>\n",
       "    </tr>\n",
       "    <tr>\n",
       "      <th>1</th>\n",
       "      <td>60062</td>\n",
       "      <td>north</td>\n",
       "      <td></td>\n",
       "      <td>35-44</td>\n",
       "      <td>&gt; 200K</td>\n",
       "      <td>married kids</td>\n",
       "    </tr>\n",
       "    <tr>\n",
       "      <th>2</th>\n",
       "      <td>60062</td>\n",
       "      <td>north</td>\n",
       "      <td>Female</td>\n",
       "      <td>35-44</td>\n",
       "      <td>&gt; 200K</td>\n",
       "      <td>married kids</td>\n",
       "    </tr>\n",
       "    <tr>\n",
       "      <th>3</th>\n",
       "      <td>60062</td>\n",
       "      <td>north</td>\n",
       "      <td></td>\n",
       "      <td>35-44</td>\n",
       "      <td>&gt; 200K</td>\n",
       "      <td>married kids</td>\n",
       "    </tr>\n",
       "    <tr>\n",
       "      <th>4</th>\n",
       "      <td>60062</td>\n",
       "      <td>north</td>\n",
       "      <td></td>\n",
       "      <td>55-64</td>\n",
       "      <td>&gt; 200K</td>\n",
       "      <td>married kids</td>\n",
       "    </tr>\n",
       "  </tbody>\n",
       "</table>\n",
       "</div>"
      ],
      "text/plain": [
       "   Zip Code   Mall  gender    age       income   family_type\n",
       "0     60062  north    Male  45-54  100K - 149K  married kids\n",
       "1     60062  north          35-44       > 200K  married kids\n",
       "2     60062  north  Female  35-44       > 200K  married kids\n",
       "3     60062  north          35-44       > 200K  married kids\n",
       "4     60062  north          55-64       > 200K  married kids"
      ]
     },
     "execution_count": 4,
     "metadata": {},
     "output_type": "execute_result"
    }
   ],
   "source": [
    "survey_df_demo = survey_df[[\"Zip Code\", \"Mall\", \"gender\", \"age\", \"income\", \"family_type\"]]\n",
    "survey_df_demo.head()"
   ]
  },
  {
   "cell_type": "code",
   "execution_count": 5,
   "metadata": {},
   "outputs": [
    {
     "data": {
      "text/plain": [
       "array(['18-25', '26-34', '45-54', '65-74', '35-44', '55-64', ' ', '75 +',\n",
       "       '13-17'], dtype=object)"
      ]
     },
     "execution_count": 5,
     "metadata": {},
     "output_type": "execute_result"
    }
   ],
   "source": [
    "north = survey_df.loc[survey_df[\"Mall\"] == \"north\", :]\n",
    "water = survey_df.loc[survey_df[\"Mall\"] == \"water\", :]\n",
    "oak = survey_df.loc[survey_df[\"Mall\"] == \"oak\", :]\n",
    "spring = survey_df.loc[survey_df[\"Mall\"] == \"spring\", :]\n",
    "\n",
    "north_ages = pd.unique(north[\"age\"])\n",
    "water_ages = pd.unique(water[\"age\"])\n",
    "oak_ages = pd.unique(oak[\"age\"])\n",
    "spring_ages = pd.unique(spring[\"age\"])\n",
    "\n",
    "spring_ages\n"
   ]
  },
  {
   "cell_type": "code",
   "execution_count": 6,
   "metadata": {},
   "outputs": [
    {
     "data": {
      "text/plain": [
       "[12, 44, 72, 126, 151, 129, 45, 30, 16]"
      ]
     },
     "execution_count": 6,
     "metadata": {},
     "output_type": "execute_result"
    }
   ],
   "source": [
    "north_1317 = north.loc[(north[\"age\"] == \"13-17\")]\n",
    "#len(north_1317[\"age\"])\n",
    "north_1825 = north.loc[(north[\"age\"] == \"18-25\")]\n",
    "north_2634 = north.loc[(north[\"age\"] == \"26-34\")]\n",
    "north_3544 = north.loc[(north[\"age\"] == \"35-44\")]\n",
    "north_4554 = north.loc[(north[\"age\"] == \"45-54\")]\n",
    "north_5564 = north.loc[(north[\"age\"] == \"55-64\")]\n",
    "north_6574 = north.loc[(north[\"age\"] == \"65-74\")]\n",
    "north_75plus = north.loc[(north[\"age\"] == \"75 +\")]\n",
    "north_undef = north.loc[(north[\"age\"] == \" \")]\n",
    "\n",
    "\n",
    "north_ages = [len(north_1317[\"age\"]), len(north_1825[\"age\"]), len(north_2634[\"age\"]), \n",
    "              len(north_3544[\"age\"]), len(north_4554[\"age\"]), len(north_5564[\"age\"]), \n",
    "              len(north_6574[\"age\"]), len(north_75plus[\"age\"]), len(north_undef[\"age\"])]\n",
    "\n",
    "north_ages"
   ]
  },
  {
   "cell_type": "code",
   "execution_count": 7,
   "metadata": {},
   "outputs": [
    {
     "data": {
      "image/png": "[encoded data removed]",
      "text/plain": [
       "<Figure size 432x288 with 1 Axes>"
      ]
     },
     "metadata": {
      "needs_background": "light"
     },
     "output_type": "display_data"
    }
   ],
   "source": [
    "# Create a bar chart based upon the above data\n",
    "\n",
    "ages = [\"13-17\", \"18-25\", \"26-34\", \"35-44\", \"45-54\", \"55-64\", \"65-74\", \"75 +\", \"blanks\"]\n",
    "x_axis = np.arange(len(ages))\n",
    "\n",
    "plt.bar(ages, north_ages, color=\"b\", align=\"center\")\n",
    "\n",
    "plt.title(\"Age Distribution - Northbrook\")\n",
    "plt.xlabel(\"Ages\")\n",
    "plt.ylabel(\"# of Visitors\")\n",
    "plt.ylim(0,320)\n",
    "plt.savefig(\"northbrook_ages.PNG\")\n",
    "plt.show()\n",
    "\n",
    "#plt.legend(handles=[water_tower, northbrook, oak_brook, dundee], loc=\"best\")"
   ]
  },
  {
   "cell_type": "code",
   "execution_count": 8,
   "metadata": {},
   "outputs": [
    {
     "data": {
      "text/plain": [
       "[11, 114, 218, 247, 305, 246, 62, 15, 7]"
      ]
     },
     "execution_count": 8,
     "metadata": {},
     "output_type": "execute_result"
    }
   ],
   "source": [
    "oak_1317 = oak.loc[(oak[\"age\"] == \"13-17\")]\n",
    "oak_1825 = oak.loc[(oak[\"age\"] == \"18-25\")]\n",
    "oak_2634 = oak.loc[(oak[\"age\"] == \"26-34\")]\n",
    "oak_3544 = oak.loc[(oak[\"age\"] == \"35-44\")]\n",
    "oak_4554 = oak.loc[(oak[\"age\"] == \"45-54\")]\n",
    "oak_5564 = oak.loc[(oak[\"age\"] == \"55-64\")]\n",
    "oak_6574 = oak.loc[(oak[\"age\"] == \"65-74\")]\n",
    "oak_75plus = oak.loc[(oak[\"age\"] == \"75 +\")]\n",
    "oak_undef = oak.loc[(oak[\"age\"] == \" \")]\n",
    "\n",
    "\n",
    "oak_ages = [len(oak_1317[\"age\"]), len(oak_1825[\"age\"]), len(oak_2634[\"age\"]), \n",
    "              len(oak_3544[\"age\"]), len(oak_4554[\"age\"]), len(oak_5564[\"age\"]), \n",
    "              len(oak_6574[\"age\"]), len(oak_75plus[\"age\"]), len(oak_undef[\"age\"])]\n",
    "\n",
    "oak_ages"
   ]
  },
  {
   "cell_type": "code",
   "execution_count": 9,
   "metadata": {},
   "outputs": [
    {
     "data": {
      "image/png": "[encoded data removed]",
      "text/plain": [
       "<Figure size 432x288 with 1 Axes>"
      ]
     },
     "metadata": {
      "needs_background": "light"
     },
     "output_type": "display_data"
    }
   ],
   "source": [
    "# Create a bar chart based upon the above data\n",
    "\n",
    "ages = [\"13-17\", \"18-25\", \"26-34\", \"35-44\", \"45-54\", \"55-64\", \"65-74\", \"75 +\", \"blanks\"]\n",
    "x_axis = np.arange(len(ages))\n",
    "\n",
    "plt.bar(ages, oak_ages, color=\"b\", align=\"center\")\n",
    "\n",
    "plt.title(\"Age Distribution - Oak Brook\")\n",
    "plt.xlabel(\"Ages\")\n",
    "plt.ylabel(\"# of Visitors\")\n",
    "plt.ylim(0,320)\n",
    "plt.savefig(\"oak_brook_ages.png\")\n",
    "plt.show()\n"
   ]
  },
  {
   "cell_type": "code",
   "execution_count": 10,
   "metadata": {},
   "outputs": [
    {
     "data": {
      "text/plain": [
       "[13, 98, 109, 109, 126, 63, 26, 4, 8]"
      ]
     },
     "execution_count": 10,
     "metadata": {},
     "output_type": "execute_result"
    }
   ],
   "source": [
    "water_1317 = water.loc[(water[\"age\"] == \"13-17\")]\n",
    "water_1825 = water.loc[(water[\"age\"] == \"18-25\")]\n",
    "water_2634 = water.loc[(water[\"age\"] == \"26-34\")]\n",
    "water_3544 = water.loc[(water[\"age\"] == \"35-44\")]\n",
    "water_4554 = water.loc[(water[\"age\"] == \"45-54\")]\n",
    "water_5564 = water.loc[(water[\"age\"] == \"55-64\")]\n",
    "water_6574 = water.loc[(water[\"age\"] == \"65-74\")]\n",
    "water_75plus = water.loc[(water[\"age\"] == \"75 +\")]\n",
    "water_undef = water.loc[(water[\"age\"] == \" \")]\n",
    "\n",
    "\n",
    "water_ages = [len(water_1317[\"age\"]), len(water_1825[\"age\"]), len(water_2634[\"age\"]), \n",
    "              len(water_3544[\"age\"]), len(water_4554[\"age\"]), len(water_5564[\"age\"]), \n",
    "              len(water_6574[\"age\"]), len(water_75plus[\"age\"]), len(water_undef[\"age\"])]\n",
    "\n",
    "water_ages"
   ]
  },
  {
   "cell_type": "code",
   "execution_count": 11,
   "metadata": {},
   "outputs": [
    {
     "data": {
      "image/png": "[encoded data removed]",
      "text/plain": [
       "<Figure size 432x288 with 1 Axes>"
      ]
     },
     "metadata": {
      "needs_background": "light"
     },
     "output_type": "display_data"
    }
   ],
   "source": [
    "# Create a bar chart based upon the above data\n",
    "\n",
    "ages = [\"13-17\", \"18-25\", \"26-34\", \"35-44\", \"45-54\", \"55-64\", \"65-74\", \"75 +\", \"blanks\"]\n",
    "x_axis = np.arange(len(ages))\n",
    "\n",
    "plt.bar(ages, water_ages, color=\"b\", align=\"center\")\n",
    "\n",
    "plt.title(\"Age Distribution - Water Tower\")\n",
    "plt.xlabel(\"Ages\")\n",
    "plt.ylabel(\"# of Visitors\")\n",
    "plt.ylim(0,320)\n",
    "plt.savefig(\"water_tower_ages.png\")\n",
    "plt.show()\n"
   ]
  },
  {
   "cell_type": "code",
   "execution_count": 12,
   "metadata": {},
   "outputs": [
    {
     "data": {
      "text/plain": [
       "[10, 43, 60, 100, 84, 58, 27, 6, 4]"
      ]
     },
     "execution_count": 12,
     "metadata": {},
     "output_type": "execute_result"
    }
   ],
   "source": [
    "spring_1317 = spring.loc[(spring[\"age\"] == \"13-17\")]\n",
    "spring_1825 = spring.loc[(spring[\"age\"] == \"18-25\")]\n",
    "spring_2634 = spring.loc[(spring[\"age\"] == \"26-34\")]\n",
    "spring_3544 = spring.loc[(spring[\"age\"] == \"35-44\")]\n",
    "spring_4554 = spring.loc[(spring[\"age\"] == \"45-54\")]\n",
    "spring_5564 = spring.loc[(spring[\"age\"] == \"55-64\")]\n",
    "spring_6574 = spring.loc[(spring[\"age\"] == \"65-74\")]\n",
    "spring_75plus = spring.loc[(spring[\"age\"] == \"75 +\")]\n",
    "spring_undef = spring.loc[(spring[\"age\"] == \" \")]\n",
    "\n",
    "\n",
    "spring_ages = [len(spring_1317[\"age\"]), len(spring_1825[\"age\"]), len(spring_2634[\"age\"]), \n",
    "              len(spring_3544[\"age\"]), len(spring_4554[\"age\"]), len(spring_5564[\"age\"]), \n",
    "              len(spring_6574[\"age\"]), len(spring_75plus[\"age\"]), len(spring_undef[\"age\"])]\n",
    "\n",
    "spring_ages"
   ]
  },
  {
   "cell_type": "code",
   "execution_count": 13,
   "metadata": {
    "scrolled": true
   },
   "outputs": [
    {
     "data": {
      "image/png": "[encoded data removed]",
      "text/plain": [
       "<Figure size 432x288 with 1 Axes>"
      ]
     },
     "metadata": {
      "needs_background": "light"
     },
     "output_type": "display_data"
    }
   ],
   "source": [
    "# Create a bar chart based upon the above data\n",
    "\n",
    "ages = [\"13-17\", \"18-25\", \"26-34\", \"35-44\", \"45-54\", \"55-64\", \"65-74\", \"75 +\", \"blanks\"]\n",
    "x_axis = np.arange(len(ages))\n",
    "\n",
    "plt.bar(ages, spring_ages, color=\"b\", align=\"center\")\n",
    "\n",
    "plt.title(\"Age Distribution - Spring Hill\")\n",
    "plt.xlabel(\"Ages\")\n",
    "plt.ylabel(\"# of Visitors\")\n",
    "plt.ylim(0,320)\n",
    "plt.savefig(\"spring_hill_ages.png\")\n",
    "plt.show()\n",
    "\n",
    "\n",
    "#plt.legend(handles=[water_tower, northbrook, oak_brook, dundee], loc=\"best\")"
   ]
  },
  {
   "cell_type": "code",
   "execution_count": 14,
   "metadata": {},
   "outputs": [
    {
     "data": {
      "text/plain": [
       "array(['100K - 149K', '60K-99K', '< 30K', '30K - 59K', '> 200K', ' ',\n",
       "       '150K-200K'], dtype=object)"
      ]
     },
     "execution_count": 14,
     "metadata": {},
     "output_type": "execute_result"
    }
   ],
   "source": [
    "spring_incomes = pd.unique(spring[\"income\"])\n",
    "\n",
    "spring_incomes"
   ]
  },
  {
   "cell_type": "code",
   "execution_count": 15,
   "metadata": {},
   "outputs": [
    {
     "data": {
      "text/plain": [
       "[69, 97, 114, 56, 16, 8, 32]"
      ]
     },
     "execution_count": 15,
     "metadata": {},
     "output_type": "execute_result"
    }
   ],
   "source": [
    "spring_under30k = spring.loc[(spring[\"income\"] == \"< 30K\")]\n",
    "spring_3059 = spring.loc[(spring[\"income\"] == \"30K - 59K\")]\n",
    "spring_6099 = spring.loc[(spring[\"income\"] == \"60K-99K\")]\n",
    "spring_100149 = spring.loc[(spring[\"income\"] == \"100K - 149K\")]\n",
    "spring_150200 = spring.loc[(spring[\"income\"] == \"150K-200K\")]\n",
    "spring_200plus = spring.loc[(spring[\"income\"] == \"> 200K\")]\n",
    "spring_blank = spring.loc[(spring[\"income\"] == \" \")]\n",
    "\n",
    "spring_incomes = [len(spring_under30k[\"income\"]), len(spring_3059[\"income\"]), len(spring_6099[\"income\"]),\n",
    "                  len(spring_100149[\"income\"]), len(spring_150200[\"income\"]), \n",
    "              len(spring_200plus[\"income\"]), len(spring_blank[\"income\"])]\n",
    "\n",
    "spring_incomes\n",
    "\n"
   ]
  },
  {
   "cell_type": "code",
   "execution_count": 16,
   "metadata": {},
   "outputs": [
    {
     "data": {
      "image/png": "[encoded data removed]",
      "text/plain": [
       "<Figure size 432x288 with 1 Axes>"
      ]
     },
     "metadata": {
      "needs_background": "light"
     },
     "output_type": "display_data"
    }
   ],
   "source": [
    "# Create a bar chart based upon the above data\n",
    "\n",
    "incomes = [\"< 30K\", \"30K - 59K\", \"60K-99K\", \"100K - 149K\", \"150K-200K\", \"> 200K\", \"blanks\"]\n",
    "#x_axis = np.arange(len(incomes))\n",
    "\n",
    "plt.bar(incomes, spring_incomes, color=\"g\", align=\"center\")\n",
    "\n",
    "plt.title(\"Income Distribution - Spring Hill\")\n",
    "plt.xlabel(\"Incomes\")\n",
    "plt.ylabel(\"# of Visitors\")\n",
    "plt.ylim(0,320)\n",
    "plt.savefig(\"spring_hill_incomes.png\")\n",
    "plt.show()\n",
    "\n"
   ]
  },
  {
   "cell_type": "code",
   "execution_count": 17,
   "metadata": {},
   "outputs": [
    {
     "data": {
      "text/plain": [
       "[37, 84, 136, 135, 66, 81, 86]"
      ]
     },
     "execution_count": 17,
     "metadata": {},
     "output_type": "execute_result"
    }
   ],
   "source": [
    "north_under30k = north.loc[(north[\"income\"] == \"< 30K\")]\n",
    "north_3059 = north.loc[(north[\"income\"] == \"30K - 59K\")]\n",
    "north_6099 = north.loc[(north[\"income\"] == \"60K-99K\")]\n",
    "north_100149 = north.loc[(north[\"income\"] == \"100K - 149K\")]\n",
    "north_150200 = north.loc[(north[\"income\"] == \"150K-200K\")]\n",
    "north_200plus = north.loc[(north[\"income\"] == \"> 200K\")]\n",
    "north_blank = north.loc[(north[\"income\"] == \" \")]\n",
    "\n",
    "north_incomes = [len(north_under30k[\"income\"]), len(north_3059[\"income\"]), len(north_6099[\"income\"]),\n",
    "                  len(north_100149[\"income\"]), len(north_150200[\"income\"]), \n",
    "              len(north_200plus[\"income\"]), len(north_blank[\"income\"])]\n",
    "\n",
    "north_incomes"
   ]
  },
  {
   "cell_type": "code",
   "execution_count": 18,
   "metadata": {},
   "outputs": [
    {
     "data": {
      "image/png": "[encoded data removed]",
      "text/plain": [
       "<Figure size 432x288 with 1 Axes>"
      ]
     },
     "metadata": {
      "needs_background": "light"
     },
     "output_type": "display_data"
    }
   ],
   "source": [
    "# Create a bar chart based upon the above data\n",
    "\n",
    "incomes = [\"< 30K\", \"30K - 59K\", \"60K-99K\", \"100K - 149K\", \"150K-200K\", \"> 200K\", \"blanks\"]\n",
    "#x_axis = np.arange(len(incomes))\n",
    "\n",
    "plt.bar(incomes, north_incomes, color=\"g\", align=\"center\")\n",
    "\n",
    "plt.title(\"Income Distribution - Northbrook\")\n",
    "plt.xlabel(\"Incomes\")\n",
    "plt.ylabel(\"# of Visitors\")\n",
    "plt.ylim(0,320)\n",
    "plt.savefig(\"northbrook_incomes.png\")\n",
    "plt.show()\n",
    "\n"
   ]
  },
  {
   "cell_type": "code",
   "execution_count": 19,
   "metadata": {},
   "outputs": [
    {
     "data": {
      "text/plain": [
       "[113, 149, 124, 67, 35, 29, 39]"
      ]
     },
     "execution_count": 19,
     "metadata": {},
     "output_type": "execute_result"
    }
   ],
   "source": [
    "water_under30k = water.loc[(water[\"income\"] == \"< 30K\")]\n",
    "water_3059 = water.loc[(water[\"income\"] == \"30K - 59K\")]\n",
    "water_6099 = water.loc[(water[\"income\"] == \"60K-99K\")]\n",
    "water_100149 = water.loc[(water[\"income\"] == \"100K - 149K\")]\n",
    "water_150200 = water.loc[(water[\"income\"] == \"150K-200K\")]\n",
    "water_200plus = water.loc[(water[\"income\"] == \"> 200K\")]\n",
    "water_blank = water.loc[(water[\"income\"] == \" \")]\n",
    "\n",
    "water_incomes = [len(water_under30k[\"income\"]), len(water_3059[\"income\"]), len(water_6099[\"income\"]),\n",
    "                  len(water_100149[\"income\"]), len(water_150200[\"income\"]), \n",
    "              len(water_200plus[\"income\"]), len(water_blank[\"income\"])]\n",
    "\n",
    "water_incomes"
   ]
  },
  {
   "cell_type": "code",
   "execution_count": 20,
   "metadata": {},
   "outputs": [
    {
     "data": {
      "image/png": "[encoded data removed]",
      "text/plain": [
       "<Figure size 432x288 with 1 Axes>"
      ]
     },
     "metadata": {
      "needs_background": "light"
     },
     "output_type": "display_data"
    }
   ],
   "source": [
    "# Create a bar chart based upon the above data\n",
    "\n",
    "incomes = [\"< 30K\", \"30K - 59K\", \"60K-99K\", \"100K - 149K\", \"150K-200K\", \"> 200K\", \"blanks\"]\n",
    "#x_axis = np.arange(len(incomes))\n",
    "\n",
    "plt.bar(incomes, water_incomes, color=\"g\", align=\"center\")\n",
    "\n",
    "plt.title(\"Income Distribution - Water Tower\")\n",
    "plt.xlabel(\"Incomes\")\n",
    "plt.ylabel(\"# of Visitors\")\n",
    "plt.ylim(0,320)\n",
    "plt.savefig(\"water_tower_incomes.png\")\n",
    "plt.show()\n",
    "\n"
   ]
  },
  {
   "cell_type": "code",
   "execution_count": 21,
   "metadata": {},
   "outputs": [
    {
     "data": {
      "text/plain": [
       "[98, 253, 302, 264, 102, 78, 128]"
      ]
     },
     "execution_count": 21,
     "metadata": {},
     "output_type": "execute_result"
    }
   ],
   "source": [
    "oak_under30k = oak.loc[(oak[\"income\"] == \"< 30K\")]\n",
    "oak_3059 = oak.loc[(oak[\"income\"] == \"30K - 59K\")]\n",
    "oak_6099 = oak.loc[(oak[\"income\"] == \"60K-99K\")]\n",
    "oak_100149 = oak.loc[(oak[\"income\"] == \"100K - 149K\")]\n",
    "oak_150200 = oak.loc[(oak[\"income\"] == \"150K-200K\")]\n",
    "oak_200plus = oak.loc[(oak[\"income\"] == \"> 200K\")]\n",
    "oak_blank = oak.loc[(oak[\"income\"] == \" \")]\n",
    "\n",
    "oak_incomes = [len(oak_under30k[\"income\"]), len(oak_3059[\"income\"]), len(oak_6099[\"income\"]),\n",
    "                  len(oak_100149[\"income\"]), len(oak_150200[\"income\"]), \n",
    "              len(oak_200plus[\"income\"]), len(oak_blank[\"income\"])]\n",
    "\n",
    "oak_incomes"
   ]
  },
  {
   "cell_type": "code",
   "execution_count": 22,
   "metadata": {},
   "outputs": [
    {
     "data": {
      "image/png": "[encoded data removed]",
      "text/plain": [
       "<Figure size 432x288 with 1 Axes>"
      ]
     },
     "metadata": {
      "needs_background": "light"
     },
     "output_type": "display_data"
    }
   ],
   "source": [
    "# Create a bar chart based upon the above data\n",
    "\n",
    "incomes = [\"< 30K\", \"30K - 59K\", \"60K-99K\", \"100K - 149K\", \"150K-200K\", \"> 200K\", \"blanks\"]\n",
    "#x_axis = np.arange(len(incomes))\n",
    "\n",
    "plt.bar(incomes, oak_incomes, color=\"g\", align=\"center\")\n",
    "\n",
    "plt.title(\"Income Distribution - Oak Brook\")\n",
    "plt.xlabel(\"Incomes\")\n",
    "plt.ylabel(\"# of Visitors\")\n",
    "plt.ylim(0,320)\n",
    "plt.savefig(\"oak_brook_incomes.png\")\n",
    "plt.show()\n",
    "\n"
   ]
  },
  {
   "cell_type": "code",
   "execution_count": 23,
   "metadata": {},
   "outputs": [
    {
     "data": {
      "text/plain": [
       "array(['Four Stores and More', 'Two or Three Stores', 'One Store', ' '],\n",
       "      dtype=object)"
      ]
     },
     "execution_count": 23,
     "metadata": {},
     "output_type": "execute_result"
    }
   ],
   "source": [
    "spring_numstores = pd.unique(spring[\"numstores\"])\n",
    "\n",
    "spring_numstores"
   ]
  },
  {
   "cell_type": "code",
   "execution_count": 24,
   "metadata": {},
   "outputs": [
    {
     "data": {
      "text/plain": [
       "[18, 328, 261, 15]"
      ]
     },
     "execution_count": 24,
     "metadata": {},
     "output_type": "execute_result"
    }
   ],
   "source": [
    "north_onestore = north.loc[(north[\"numstores\"] == \"One Store\")]\n",
    "north_twothree = north.loc[(north[\"numstores\"] == \"Two or Three Stores\")]\n",
    "north_fourplus = north.loc[(north[\"numstores\"] == \"Four Stores and More\")]\n",
    "north_blankstores = north.loc[(north[\"numstores\"] == \" \")]\n",
    "\n",
    "north_numstores = [len(north_onestore[\"numstores\"]), len(north_twothree[\"numstores\"]), len(north_fourplus[\"numstores\"]),\n",
    "                  len(north_blankstores[\"numstores\"])]\n",
    "\n",
    "north_numstores"
   ]
  },
  {
   "cell_type": "code",
   "execution_count": 25,
   "metadata": {},
   "outputs": [
    {
     "data": {
      "image/png": "[encoded data removed]",
      "text/plain": [
       "<Figure size 432x288 with 1 Axes>"
      ]
     },
     "metadata": {
      "needs_background": "light"
     },
     "output_type": "display_data"
    }
   ],
   "source": [
    "# Create a bar chart based upon the above data\n",
    "\n",
    "numstores = [\"1 Store\", \"2-3 Stores\", \"4+ Stores\", \"Blanks\"]\n",
    "#x_axis = np.arange(len(incomes))\n",
    "\n",
    "plt.bar(numstores, north_numstores, color=\"m\", align=\"center\")\n",
    "\n",
    "plt.title(\"# of Stores per Visit - Northbrook\")\n",
    "plt.xlabel(\"# of Stores\")\n",
    "plt.ylabel(\"# of Visitors\")\n",
    "plt.ylim(0,400)\n",
    "plt.savefig(\"northbrook_numstores.png\")\n",
    "plt.show()\n",
    "\n"
   ]
  },
  {
   "cell_type": "code",
   "execution_count": 26,
   "metadata": {},
   "outputs": [
    {
     "data": {
      "text/plain": [
       "[29, 453, 725, 11]"
      ]
     },
     "execution_count": 26,
     "metadata": {},
     "output_type": "execute_result"
    }
   ],
   "source": [
    "oak_onestore = oak.loc[(oak[\"numstores\"] == \"One Store\")]\n",
    "oak_twothree = oak.loc[(oak[\"numstores\"] == \"Two or Three Stores\")]\n",
    "oak_fourplus = oak.loc[(oak[\"numstores\"] == \"Four Stores and More\")]\n",
    "oak_blankstores = oak.loc[(oak[\"numstores\"] == \" \")]\n",
    "\n",
    "oak_numstores = [len(oak_onestore[\"numstores\"]), len(oak_twothree[\"numstores\"]), len(oak_fourplus[\"numstores\"]),\n",
    "                  len(oak_blankstores[\"numstores\"])]\n",
    "\n",
    "oak_numstores"
   ]
  },
  {
   "cell_type": "code",
   "execution_count": 27,
   "metadata": {},
   "outputs": [
    {
     "data": {
      "image/png": "[encoded data removed]",
      "text/plain": [
       "<Figure size 432x288 with 1 Axes>"
      ]
     },
     "metadata": {
      "needs_background": "light"
     },
     "output_type": "display_data"
    }
   ],
   "source": [
    "# Create a bar chart based upon the above data\n",
    "\n",
    "numstores = [\"1 Store\", \"2-3 Stores\", \"4+ Stores\", \"Blanks\"]\n",
    "#x_axis = np.arange(len(incomes))\n",
    "\n",
    "plt.bar(numstores, oak_numstores, color=\"m\", align=\"center\")\n",
    "\n",
    "plt.title(\"# of Stores per Visit - Oak Brook\")\n",
    "plt.xlabel(\"# of Stores\")\n",
    "plt.ylabel(\"# of Visitors\")\n",
    "plt.ylim(0,800)\n",
    "plt.savefig(\"oak_brook_numstores.png\")\n",
    "plt.show()\n",
    "\n"
   ]
  },
  {
   "cell_type": "code",
   "execution_count": 28,
   "metadata": {},
   "outputs": [
    {
     "data": {
      "text/plain": [
       "[22, 202, 324, 4]"
      ]
     },
     "execution_count": 28,
     "metadata": {},
     "output_type": "execute_result"
    }
   ],
   "source": [
    "water_onestore = water.loc[(water[\"numstores\"] == \"One Store\")]\n",
    "water_twothree = water.loc[(water[\"numstores\"] == \"Two or Three Stores\")]\n",
    "water_fourplus = water.loc[(water[\"numstores\"] == \"Four Stores and More\")]\n",
    "water_blankstores = water.loc[(water[\"numstores\"] == \" \")]\n",
    "\n",
    "water_numstores = [len(water_onestore[\"numstores\"]), len(water_twothree[\"numstores\"]), len(water_fourplus[\"numstores\"]),\n",
    "                  len(water_blankstores[\"numstores\"])]\n",
    "\n",
    "water_numstores"
   ]
  },
  {
   "cell_type": "code",
   "execution_count": 29,
   "metadata": {
    "scrolled": true
   },
   "outputs": [
    {
     "data": {
      "image/png": "[encoded data removed]",
      "text/plain": [
       "<Figure size 432x288 with 1 Axes>"
      ]
     },
     "metadata": {
      "needs_background": "light"
     },
     "output_type": "display_data"
    }
   ],
   "source": [
    "# Create a bar chart based upon the above data\n",
    "\n",
    "numstores = [\"1 Store\", \"2-3 Stores\", \"4+ Stores\", \"Blanks\"]\n",
    "#x_axis = np.arange(len(incomes))\n",
    "\n",
    "plt.bar(numstores, water_numstores, color=\"m\", align=\"center\")\n",
    "\n",
    "plt.title(\"# of Stores per Visit - Water Tower Place\")\n",
    "plt.xlabel(\"# of Stores\")\n",
    "plt.ylabel(\"# of Visitors\")\n",
    "plt.ylim(0,400)\n",
    "plt.savefig(\"water_tower_numstores.png\")\n",
    "plt.show()\n",
    "\n"
   ]
  },
  {
   "cell_type": "code",
   "execution_count": 30,
   "metadata": {},
   "outputs": [
    {
     "data": {
      "text/plain": [
       "[12, 160, 216, 4]"
      ]
     },
     "execution_count": 30,
     "metadata": {},
     "output_type": "execute_result"
    }
   ],
   "source": [
    "spring_onestore = spring.loc[(spring[\"numstores\"] == \"One Store\")]\n",
    "spring_twothree = spring.loc[(spring[\"numstores\"] == \"Two or Three Stores\")]\n",
    "spring_fourplus = spring.loc[(spring[\"numstores\"] == \"Four Stores and More\")]\n",
    "spring_blankstores = spring.loc[(spring[\"numstores\"] == \" \")]\n",
    "\n",
    "spring_numstores = [len(spring_onestore[\"numstores\"]), len(spring_twothree[\"numstores\"]), len(spring_fourplus[\"numstores\"]),\n",
    "                  len(spring_blankstores[\"numstores\"])]\n",
    "\n",
    "spring_numstores"
   ]
  },
  {
   "cell_type": "code",
   "execution_count": 31,
   "metadata": {},
   "outputs": [
    {
     "data": {
      "image/png": "[encoded data removed]",
      "text/plain": [
       "<Figure size 432x288 with 1 Axes>"
      ]
     },
     "metadata": {
      "needs_background": "light"
     },
     "output_type": "display_data"
    }
   ],
   "source": [
    "# Create a bar chart based upon the above data\n",
    "\n",
    "numstores = [\"1 Store\", \"2-3 Stores\", \"4+ Stores\", \"Blanks\"]\n",
    "#x_axis = np.arange(len(incomes))\n",
    "\n",
    "plt.bar(numstores, spring_numstores, color=\"m\", align=\"center\")\n",
    "\n",
    "plt.title(\"# of Stores per Visit - Spring Hill Mall\")\n",
    "plt.xlabel(\"# of Stores\")\n",
    "plt.ylabel(\"# of Visitors\")\n",
    "plt.ylim(0,300)\n",
    "plt.savefig(\"spring_hill_numstores.png\")\n",
    "plt.show()\n",
    "\n"
   ]
  },
  {
   "cell_type": "code",
   "execution_count": 32,
   "metadata": {},
   "outputs": [
    {
     "data": {
      "text/plain": [
       "array(['Fun', 'Trends', 'Deals', 'Know', ' '], dtype=object)"
      ]
     },
     "execution_count": 32,
     "metadata": {},
     "output_type": "execute_result"
    }
   ],
   "source": [
    "spring_styles = pd.unique(spring[\"shopping_style\"])\n",
    "\n",
    "spring_styles"
   ]
  },
  {
   "cell_type": "code",
   "execution_count": 33,
   "metadata": {},
   "outputs": [
    {
     "data": {
      "text/plain": [
       "[75, 132, 303, 103, 12]"
      ]
     },
     "execution_count": 33,
     "metadata": {},
     "output_type": "execute_result"
    }
   ],
   "source": [
    "north_fun = north.loc[(north[\"shopping_style\"] == \"Fun\")]\n",
    "north_trends = north.loc[(north[\"shopping_style\"] == \"Trends\")]\n",
    "north_deals = north.loc[(north[\"shopping_style\"] == \"Deals\")]\n",
    "north_know = north.loc[(north[\"shopping_style\"] == \"Know\")]\n",
    "north_blankstyle = north.loc[(north[\"shopping_style\"] == \" \")]\n",
    "\n",
    "north_styles = [len(north_fun[\"numstores\"]), len(north_trends[\"numstores\"]), len(north_deals[\"numstores\"]),\n",
    "                  len(north_know[\"numstores\"]), len(north_blankstyle[\"numstores\"])]\n",
    "\n",
    "north_styles"
   ]
  },
  {
   "cell_type": "code",
   "execution_count": 34,
   "metadata": {},
   "outputs": [
    {
     "data": {
      "image/png": "[encoded data removed]",
      "text/plain": [
       "<Figure size 432x288 with 1 Axes>"
      ]
     },
     "metadata": {
      "needs_background": "light"
     },
     "output_type": "display_data"
    }
   ],
   "source": [
    "# Create a bar chart based upon the above data\n",
    "\n",
    "styles = [\"For Fun\", \"Browse Trends\", \"Deals\", \"Specific Item\", \"Blanks\"]\n",
    "#x_axis = np.arange(len(incomes))\n",
    "\n",
    "plt.bar(styles, north_styles, color=\"c\", align=\"center\")\n",
    "\n",
    "plt.title(\"Shopping Styles - Northbrook Mall\")\n",
    "plt.xlabel(\"Shopping Style\")\n",
    "plt.ylabel(\"# of Visitors\")\n",
    "plt.ylim(0,320)\n",
    "plt.savefig(\"northbrook_styles.png\")\n",
    "plt.show()\n",
    "\n"
   ]
  },
  {
   "cell_type": "code",
   "execution_count": 35,
   "metadata": {},
   "outputs": [
    {
     "data": {
      "text/plain": [
       "[205, 200, 623, 181, 16]"
      ]
     },
     "execution_count": 35,
     "metadata": {},
     "output_type": "execute_result"
    }
   ],
   "source": [
    "oak_fun = oak.loc[(oak[\"shopping_style\"] == \"Fun\")]\n",
    "oak_trends = oak.loc[(oak[\"shopping_style\"] == \"Trends\")]\n",
    "oak_deals = oak.loc[(oak[\"shopping_style\"] == \"Deals\")]\n",
    "oak_know = oak.loc[(oak[\"shopping_style\"] == \"Know\")]\n",
    "oak_blankstyle = oak.loc[(oak[\"shopping_style\"] == \" \")]\n",
    "\n",
    "oak_styles = [len(oak_fun[\"numstores\"]), len(oak_trends[\"numstores\"]), len(oak_deals[\"numstores\"]),\n",
    "                  len(oak_know[\"numstores\"]), len(oak_blankstyle[\"numstores\"])]\n",
    "\n",
    "oak_styles"
   ]
  },
  {
   "cell_type": "code",
   "execution_count": 36,
   "metadata": {},
   "outputs": [
    {
     "data": {
      "image/png": "[encoded data removed]",
      "text/plain": [
       "<Figure size 432x288 with 1 Axes>"
      ]
     },
     "metadata": {
      "needs_background": "light"
     },
     "output_type": "display_data"
    }
   ],
   "source": [
    "# Create a bar chart based upon the above data\n",
    "\n",
    "styles = [\"For Fun\", \"Browse Trends\", \"Deals\", \"Specific Item\", \"Blanks\"]\n",
    "#x_axis = np.arange(len(incomes))\n",
    "\n",
    "plt.bar(styles, oak_styles, color=\"c\", align=\"center\")\n",
    "\n",
    "plt.title(\"Shopping Styles - Oak Brook Center\")\n",
    "plt.xlabel(\"Shopping Style\")\n",
    "plt.ylabel(\"# of Visitors\")\n",
    "plt.ylim(0,700)\n",
    "plt.savefig(\"oak_brook_styles.png\")\n",
    "plt.show()\n",
    "\n"
   ]
  },
  {
   "cell_type": "code",
   "execution_count": 37,
   "metadata": {},
   "outputs": [
    {
     "data": {
      "text/plain": [
       "[106, 98, 263, 77, 12]"
      ]
     },
     "execution_count": 37,
     "metadata": {},
     "output_type": "execute_result"
    }
   ],
   "source": [
    "water_fun = water.loc[(water[\"shopping_style\"] == \"Fun\")]\n",
    "water_trends = water.loc[(water[\"shopping_style\"] == \"Trends\")]\n",
    "water_deals = water.loc[(water[\"shopping_style\"] == \"Deals\")]\n",
    "water_know = water.loc[(water[\"shopping_style\"] == \"Know\")]\n",
    "water_blankstyle = water.loc[(water[\"shopping_style\"] == \" \")]\n",
    "\n",
    "water_styles = [len(water_fun[\"numstores\"]), len(water_trends[\"numstores\"]), len(water_deals[\"numstores\"]),\n",
    "                  len(water_know[\"numstores\"]), len(water_blankstyle[\"numstores\"])]\n",
    "\n",
    "water_styles"
   ]
  },
  {
   "cell_type": "code",
   "execution_count": 38,
   "metadata": {},
   "outputs": [
    {
     "data": {
      "image/png": "[encoded data removed]",
      "text/plain": [
       "<Figure size 432x288 with 1 Axes>"
      ]
     },
     "metadata": {
      "needs_background": "light"
     },
     "output_type": "display_data"
    }
   ],
   "source": [
    "# Create a bar chart based upon the above data\n",
    "\n",
    "styles = [\"For Fun\", \"Browse Trends\", \"Deals\", \"Specific Item\", \"Blanks\"]\n",
    "#x_axis = np.arange(len(incomes))\n",
    "\n",
    "plt.bar(styles, water_styles, color=\"c\", align=\"center\")\n",
    "\n",
    "plt.title(\"Shopping Styles - Water Tower Place\")\n",
    "plt.xlabel(\"Shopping Style\")\n",
    "plt.ylabel(\"# of Visitors\")\n",
    "plt.ylim(0,300)\n",
    "plt.savefig(\"water_tower_styles.png\")\n",
    "plt.show()\n",
    "\n"
   ]
  },
  {
   "cell_type": "code",
   "execution_count": 39,
   "metadata": {},
   "outputs": [
    {
     "data": {
      "text/plain": [
       "[43, 41, 243, 60, 5]"
      ]
     },
     "execution_count": 39,
     "metadata": {},
     "output_type": "execute_result"
    }
   ],
   "source": [
    "spring_fun = spring.loc[(spring[\"shopping_style\"] == \"Fun\")]\n",
    "spring_trends = spring.loc[(spring[\"shopping_style\"] == \"Trends\")]\n",
    "spring_deals = spring.loc[(spring[\"shopping_style\"] == \"Deals\")]\n",
    "spring_know = spring.loc[(spring[\"shopping_style\"] == \"Know\")]\n",
    "spring_blankstyle = spring.loc[(spring[\"shopping_style\"] == \" \")]\n",
    "\n",
    "spring_styles = [len(spring_fun[\"numstores\"]), len(spring_trends[\"numstores\"]), len(spring_deals[\"numstores\"]),\n",
    "                  len(spring_know[\"numstores\"]), len(spring_blankstyle[\"numstores\"])]\n",
    "\n",
    "spring_styles"
   ]
  },
  {
   "cell_type": "code",
   "execution_count": 40,
   "metadata": {},
   "outputs": [
    {
     "data": {
      "image/png": "[encoded data removed]",
      "text/plain": [
       "<Figure size 432x288 with 1 Axes>"
      ]
     },
     "metadata": {
      "needs_background": "light"
     },
     "output_type": "display_data"
    }
   ],
   "source": [
    "# Create a bar chart based upon the above data\n",
    "\n",
    "styles = [\"For Fun\", \"Browse Trends\", \"Deals\", \"Specific Item\", \"Blanks\"]\n",
    "#x_axis = np.arange(len(incomes))\n",
    "\n",
    "plt.bar(styles, spring_styles, color=\"c\", align=\"center\")\n",
    "\n",
    "plt.title(\"Shopping Styles - Spring Hill Mall\")\n",
    "plt.xlabel(\"Shopping Style\")\n",
    "plt.ylabel(\"# of Visitors\")\n",
    "plt.ylim(0,300)\n",
    "plt.savefig(\"spring_hill_styles.png\")\n",
    "plt.show()\n",
    "\n"
   ]
  },
  {
   "cell_type": "code",
   "execution_count": 41,
   "metadata": {},
   "outputs": [
    {
     "data": {
      "text/plain": [
       "[565, 294, 264, 121, 93, 49, 290, 78, 56, 100]"
      ]
     },
     "execution_count": 41,
     "metadata": {},
     "output_type": "execute_result"
    }
   ],
   "source": [
    "north_apparel = north.loc[(north[\"apparel\"] == \"1\")]\n",
    "north_shoes = north.loc[(north[\"Shoes\"] == \"1\")]\n",
    "north_acc = north.loc[(north[\"Accessories\"] == \"1\")]\n",
    "north_jewel = north.loc[(north[\"Jewelry\"] == \"1\")]\n",
    "north_toys = north.loc[(north[\"ToysGames\"] == \"1\")]\n",
    "north_books = north.loc[(north[\"Books\"] == \"1\")]\n",
    "north_cosm = north.loc[(north[\"Cosmetics\"] == \"1\")]\n",
    "north_elec = north.loc[(north[\"Electronics\"] == \"1\")]\n",
    "north_sports = north.loc[(north[\"FitnessSports\"] == \"1\")]\n",
    "north_home = north.loc[(north[\"Housewares\"] == \"1\")]\n",
    "\n",
    "north_cats = [len(north_apparel[\"apparel\"]), len(north_shoes[\"Shoes\"]), len(north_acc[\"Accessories\"]),\n",
    "                  len(north_jewel[\"Jewelry\"]), len(north_toys[\"ToysGames\"]), len(north_books[\"Books\"]),\n",
    "              len(north_cosm[\"Cosmetics\"]), len(north_elec[\"Electronics\"]), len(north_sports[\"FitnessSports\"]), \n",
    "              len(north_home[\"Housewares\"])]\n",
    "\n",
    "north_cats"
   ]
  },
  {
   "cell_type": "code",
   "execution_count": 42,
   "metadata": {},
   "outputs": [
    {
     "data": {
      "image/png": "[encoded data removed]",
      "text/plain": [
       "<Figure size 432x288 with 1 Axes>"
      ]
     },
     "metadata": {
      "needs_background": "light"
     },
     "output_type": "display_data"
    }
   ],
   "source": [
    "# Create a bar chart based upon the above data\n",
    "\n",
    "cats = [\"Clothes\", \"Shoes\", \"Acc\", \"Jewelry\", \"Toys\", \"Books\", \"Beauty\", \"Elec\", \"Sports\", \"Home\"]\n",
    "#x_axis = np.arange(len(incomes))\n",
    "\n",
    "plt.bar(cats, north_cats, color=\"y\", align=\"center\")\n",
    "\n",
    "plt.title(\"Shopping Categories - Northbrook Mall\")\n",
    "plt.xlabel(\"Shopping Categories\")\n",
    "plt.ylabel(\"# of Visitors\")\n",
    "plt.ylim(0,600)\n",
    "plt.savefig(\"northbrook_cats.png\")\n",
    "plt.show()\n",
    "\n"
   ]
  },
  {
   "cell_type": "code",
   "execution_count": 43,
   "metadata": {},
   "outputs": [
    {
     "data": {
      "text/plain": [
       "[1108, 713, 623, 345, 111, 222, 603, 141, 102, 407]"
      ]
     },
     "execution_count": 43,
     "metadata": {},
     "output_type": "execute_result"
    }
   ],
   "source": [
    "oak_apparel = oak.loc[(oak[\"apparel\"] == \"1\")]\n",
    "oak_shoes = oak.loc[(oak[\"Shoes\"] == \"1\")]\n",
    "oak_acc = oak.loc[(oak[\"Accessories\"] == \"1\")]\n",
    "oak_jewel = oak.loc[(oak[\"Jewelry\"] == \"1\")]\n",
    "oak_toys = oak.loc[(oak[\"ToysGames\"] == \"1\")]\n",
    "oak_books = oak.loc[(oak[\"Books\"] == \"1\")]\n",
    "oak_cosm = oak.loc[(oak[\"Cosmetics\"] == \"1\")]\n",
    "oak_elec = oak.loc[(oak[\"Electronics\"] == \"1\")]\n",
    "oak_sports = oak.loc[(oak[\"FitnessSports\"] == \"1\")]\n",
    "oak_home = oak.loc[(oak[\"Housewares\"] == \"1\")]\n",
    "\n",
    "oak_cats = [len(oak_apparel[\"apparel\"]), len(oak_shoes[\"Shoes\"]), len(oak_acc[\"Accessories\"]),\n",
    "                  len(oak_jewel[\"Jewelry\"]), len(oak_toys[\"ToysGames\"]), len(oak_books[\"Books\"]),\n",
    "              len(oak_cosm[\"Cosmetics\"]), len(oak_elec[\"Electronics\"]), len(oak_sports[\"FitnessSports\"]), \n",
    "              len(oak_home[\"Housewares\"])]\n",
    "\n",
    "oak_cats"
   ]
  },
  {
   "cell_type": "code",
   "execution_count": 44,
   "metadata": {},
   "outputs": [
    {
     "data": {
      "image/png": "[encoded data removed]",
      "text/plain": [
       "<Figure size 432x288 with 1 Axes>"
      ]
     },
     "metadata": {
      "needs_background": "light"
     },
     "output_type": "display_data"
    }
   ],
   "source": [
    "# Create a bar chart based upon the above data\n",
    "\n",
    "cats = [\"Clothes\", \"Shoes\", \"Acc\", \"Jewelry\", \"Toys\", \"Books\", \"Beauty\", \"Elec\", \"Sports\", \"Home\"]\n",
    "#x_axis = np.arange(len(incomes))\n",
    "\n",
    "plt.bar(cats, oak_cats, color=\"y\", align=\"center\")\n",
    "\n",
    "plt.title(\"Shopping Categories - Oak Brook Center\")\n",
    "plt.xlabel(\"Shopping Categories\")\n",
    "plt.ylabel(\"# of Visitors\")\n",
    "plt.ylim(0,1200)\n",
    "plt.savefig(\"oak_brook_cats.png\")\n",
    "plt.show()\n",
    "\n"
   ]
  },
  {
   "cell_type": "code",
   "execution_count": 45,
   "metadata": {},
   "outputs": [
    {
     "data": {
      "text/plain": [
       "[468, 308, 302, 169, 66, 61, 275, 40, 60, 81]"
      ]
     },
     "execution_count": 45,
     "metadata": {},
     "output_type": "execute_result"
    }
   ],
   "source": [
    "water_apparel = water.loc[(water[\"apparel\"] == \"1\")]\n",
    "water_shoes = water.loc[(water[\"Shoes\"] == \"1\")]\n",
    "water_acc = water.loc[(water[\"Accessories\"] == \"1\")]\n",
    "water_jewel = water.loc[(water[\"Jewelry\"] == \"1\")]\n",
    "water_toys = water.loc[(water[\"ToysGames\"] == \"1\")]\n",
    "water_books = water.loc[(water[\"Books\"] == \"1\")]\n",
    "water_cosm = water.loc[(water[\"Cosmetics\"] == \"1\")]\n",
    "water_elec = water.loc[(water[\"Electronics\"] == \"1\")]\n",
    "water_sports = water.loc[(water[\"FitnessSports\"] == \"1\")]\n",
    "water_home = water.loc[(water[\"Housewares\"] == \"1\")]\n",
    "\n",
    "water_cats = [len(water_apparel[\"apparel\"]), len(water_shoes[\"Shoes\"]), len(water_acc[\"Accessories\"]),\n",
    "                  len(water_jewel[\"Jewelry\"]), len(water_toys[\"ToysGames\"]), len(water_books[\"Books\"]),\n",
    "              len(water_cosm[\"Cosmetics\"]), len(water_elec[\"Electronics\"]), len(water_sports[\"FitnessSports\"]), \n",
    "              len(water_home[\"Housewares\"])]\n",
    "\n",
    "water_cats"
   ]
  },
  {
   "cell_type": "code",
   "execution_count": 46,
   "metadata": {},
   "outputs": [
    {
     "data": {
      "image/png": "[encoded data removed]",
      "text/plain": [
       "<Figure size 432x288 with 1 Axes>"
      ]
     },
     "metadata": {
      "needs_background": "light"
     },
     "output_type": "display_data"
    }
   ],
   "source": [
    "# Create a bar chart based upon the above data\n",
    "\n",
    "cats = [\"Clothes\", \"Shoes\", \"Acc\", \"Jewelry\", \"Toys\", \"Books\", \"Beauty\", \"Elec\", \"Sports\", \"Home\"]\n",
    "#x_axis = np.arange(len(incomes))\n",
    "\n",
    "plt.bar(cats, water_cats, color=\"y\", align=\"center\")\n",
    "\n",
    "plt.title(\"Shopping Categories - Water Tower Place\")\n",
    "plt.xlabel(\"Shopping Categories\")\n",
    "plt.ylabel(\"# of Visitors\")\n",
    "plt.ylim(0,500)\n",
    "plt.savefig(\"water_tower_cats.png\")\n",
    "plt.show()\n",
    "\n"
   ]
  },
  {
   "cell_type": "code",
   "execution_count": 47,
   "metadata": {},
   "outputs": [
    {
     "data": {
      "text/plain": [
       "[355, 222, 181, 110, 87, 122, 94, 63, 17, 110]"
      ]
     },
     "execution_count": 47,
     "metadata": {},
     "output_type": "execute_result"
    }
   ],
   "source": [
    "spring_apparel = spring.loc[(spring[\"apparel\"] == \"1\")]\n",
    "spring_shoes = spring.loc[(spring[\"Shoes\"] == \"1\")]\n",
    "spring_acc = spring.loc[(spring[\"Accessories\"] == \"1\")]\n",
    "spring_jewel = spring.loc[(spring[\"Jewelry\"] == \"1\")]\n",
    "spring_toys = spring.loc[(spring[\"ToysGames\"] == \"1\")]\n",
    "spring_books = spring.loc[(spring[\"Books\"] == \"1\")]\n",
    "spring_cosm = spring.loc[(spring[\"Cosmetics\"] == \"1\")]\n",
    "spring_elec = spring.loc[(spring[\"Electronics\"] == \"1\")]\n",
    "spring_sports = spring.loc[(spring[\"FitnessSports\"] == \"1\")]\n",
    "spring_home = spring.loc[(spring[\"Housewares\"] == \"1\")]\n",
    "\n",
    "spring_cats = [len(spring_apparel[\"apparel\"]), len(spring_shoes[\"Shoes\"]), len(spring_acc[\"Accessories\"]),\n",
    "                  len(spring_jewel[\"Jewelry\"]), len(spring_toys[\"ToysGames\"]), len(spring_books[\"Books\"]),\n",
    "              len(spring_cosm[\"Cosmetics\"]), len(spring_elec[\"Electronics\"]), len(spring_sports[\"FitnessSports\"]), \n",
    "              len(spring_home[\"Housewares\"])]\n",
    "\n",
    "spring_cats"
   ]
  },
  {
   "cell_type": "code",
   "execution_count": 48,
   "metadata": {},
   "outputs": [
    {
     "data": {
      "image/png": "[encoded data removed]",
      "text/plain": [
       "<Figure size 432x288 with 1 Axes>"
      ]
     },
     "metadata": {
      "needs_background": "light"
     },
     "output_type": "display_data"
    }
   ],
   "source": [
    "# Create a bar chart based upon the above data\n",
    "\n",
    "cats = [\"Clothes\", \"Shoes\", \"Acc\", \"Jewelry\", \"Toys\", \"Books\", \"Beauty\", \"Elec\", \"Sports\", \"Home\"]\n",
    "#x_axis = np.arange(len(incomes))\n",
    "\n",
    "plt.bar(cats, spring_cats, color=\"y\", align=\"center\")\n",
    "\n",
    "plt.title(\"Shopping Categories - Spring Hill Mall\")\n",
    "plt.xlabel(\"Shopping Categories\")\n",
    "plt.ylabel(\"# of Visitors\")\n",
    "plt.ylim(0,400)\n",
    "plt.savefig(\"spring_hill_cats.png\")\n",
    "plt.show()\n",
    "\n"
   ]
  },
  {
   "cell_type": "code",
   "execution_count": null,
   "metadata": {},
   "outputs": [],
   "source": []
  },
  {
   "cell_type": "code",
   "execution_count": null,
   "metadata": {},
   "outputs": [],
   "source": []
  },
  {
   "cell_type": "code",
   "execution_count": null,
   "metadata": {},
   "outputs": [],
   "source": []
  }
 ],
 "metadata": {
  "kernelspec": {
   "display_name": "Python 3",
   "language": "python",
   "name": "python3"
  },
  "language_info": {
   "codemirror_mode": {
    "name": "ipython",
    "version": 3
   },
   "file_extension": ".py",
   "mimetype": "text/x-python",
   "name": "python",
   "nbconvert_exporter": "python",
   "pygments_lexer": "ipython3",
   "version": "3.6.7"
  }
 },
 "nbformat": 4,
 "nbformat_minor": 2
}
